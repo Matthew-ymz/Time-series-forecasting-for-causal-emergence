{
 "cells": [
  {
   "cell_type": "code",
   "execution_count": 1,
   "metadata": {},
   "outputs": [],
   "source": [
    "import numpy as np\n",
    "import math\n",
    "import matplotlib.pyplot as plt"
   ]
  },
  {
   "cell_type": "code",
   "execution_count": 7,
   "metadata": {},
   "outputs": [],
   "source": [
    "def get_positive_contributions(values):    \n",
    "    \n",
    "    if not values:\n",
    "        return []\n",
    "    \n",
    "    output = []\n",
    "    \n",
    "    # For each subsequent value, compute diff\n",
    "    for id in range(len(values)-1):\n",
    "        diff = values[id+1] - values[id]\n",
    "        output.append(diff)\n",
    "    return output\n",
    "\n",
    "def compute_entropy(increments):\n",
    "\n",
    "    if not increments:\n",
    "        return 0.0\n",
    "    \n",
    "    total = sum(increments)\n",
    "    # If total is 0, there's no variation => 0.0 entropy\n",
    "    if total == 0:\n",
    "        return 0.0\n",
    "    \n",
    "    # Normalize to probabilities\n",
    "    probabilities = [x / total for x in increments]\n",
    "\n",
    "    # Compute Shannon entropy (base 2)\n",
    "    entropy = 0.0\n",
    "    for p in probabilities:\n",
    "        # Only compute for p > 0 to avoid math domain errors\n",
    "        if p > 0:\n",
    "            entropy -= p * math.log2(p)\n",
    "\n",
    "    return entropy\n",
    "\n",
    "gamma_list = [1.0, 1.0, 1.0, 1.0, 0.9999999999999999, 0.0, 0.0, 0.0]\n",
    "ave_sig = []\n",
    "for i in range(1, len(gamma_list)+1)[::-1]:\n",
    "    ave_sig.append(np.mean(gamma_list[0:i]))\n",
    "\n",
    "contri_list = get_positive_contributions(ave_sig)\n",
    "entropy = compute_entropy(contri_list)"
   ]
  },
  {
   "cell_type": "code",
   "execution_count": null,
   "metadata": {},
   "outputs": [],
   "source": []
  }
 ],
 "metadata": {
  "kernelspec": {
   "display_name": "Python 3 (ipykernel)",
   "language": "python",
   "name": "python3"
  },
  "language_info": {
   "codemirror_mode": {
    "name": "ipython",
    "version": 3
   },
   "file_extension": ".py",
   "mimetype": "text/x-python",
   "name": "python",
   "nbconvert_exporter": "python",
   "pygments_lexer": "ipython3",
   "version": "3.7.15"
  }
 },
 "nbformat": 4,
 "nbformat_minor": 4
}
